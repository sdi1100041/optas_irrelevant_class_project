{
 "cells": [
  {
   "cell_type": "code",
   "execution_count": 59,
   "metadata": {
    "scrolled": false
   },
   "outputs": [
    {
     "name": "stdout",
     "output_type": "stream",
     "text": [
      "Files already downloaded and verified\n",
      "Files already downloaded and verified\n"
     ]
    },
    {
     "ename": "NameError",
     "evalue": "name 'dataset' is not defined",
     "output_type": "error",
     "traceback": [
      "\u001b[0;31m\u001b[0m",
      "\u001b[0;31mNameError\u001b[0mTraceback (most recent call last)",
      "\u001b[0;32m/workspace/optas_irrelevant_class_project/main.py\u001b[0m in \u001b[0;36m<module>\u001b[0;34m\u001b[0m\n\u001b[1;32m    219\u001b[0m     \u001b[0mirr_class\u001b[0m \u001b[0;34m=\u001b[0m \u001b[0margs\u001b[0m\u001b[0;34m[\u001b[0m\u001b[0;34m'irr_class'\u001b[0m\u001b[0;34m]\u001b[0m\u001b[0;34m\u001b[0m\u001b[0;34m\u001b[0m\u001b[0m\n\u001b[1;32m    220\u001b[0m     \u001b[0mregularization\u001b[0m \u001b[0;34m=\u001b[0m \u001b[0margs\u001b[0m\u001b[0;34m[\u001b[0m\u001b[0;34m'regularization'\u001b[0m\u001b[0;34m]\u001b[0m\u001b[0;34m\u001b[0m\u001b[0;34m\u001b[0m\u001b[0m\n\u001b[0;32m--> 221\u001b[0;31m     \u001b[0mconstruct_and_train\u001b[0m\u001b[0;34m(\u001b[0m\u001b[0margs\u001b[0m\u001b[0;34m)\u001b[0m\u001b[0;34m\u001b[0m\u001b[0;34m\u001b[0m\u001b[0m\n\u001b[0m",
      "\u001b[0;32m/workspace/optas_irrelevant_class_project/main.py\u001b[0m in \u001b[0;36mconstruct_and_train\u001b[0;34m(args)\u001b[0m\n\u001b[1;32m    170\u001b[0m \u001b[0;32mdef\u001b[0m \u001b[0mconstruct_and_train\u001b[0m\u001b[0;34m(\u001b[0m\u001b[0margs\u001b[0m\u001b[0;34m:\u001b[0m \u001b[0mdict\u001b[0m\u001b[0;34m)\u001b[0m\u001b[0;34m:\u001b[0m\u001b[0;34m\u001b[0m\u001b[0;34m\u001b[0m\u001b[0m\n\u001b[1;32m    171\u001b[0m     \u001b[0;32mglobal\u001b[0m \u001b[0mstart_epoch\u001b[0m\u001b[0;34m,\u001b[0m\u001b[0mbest_acc\u001b[0m\u001b[0;34m,\u001b[0m\u001b[0mground_truth\u001b[0m\u001b[0;34m,\u001b[0m\u001b[0mindices\u001b[0m\u001b[0;34m,\u001b[0m\u001b[0mglobal_net\u001b[0m\u001b[0;34m\u001b[0m\u001b[0;34m\u001b[0m\u001b[0m\n\u001b[0;32m--> 172\u001b[0;31m     \u001b[0mtrainset\u001b[0m \u001b[0;34m=\u001b[0m \u001b[0mget_train_data\u001b[0m\u001b[0;34m(\u001b[0m\u001b[0margs\u001b[0m\u001b[0;34m[\u001b[0m\u001b[0;34m'task'\u001b[0m\u001b[0;34m]\u001b[0m\u001b[0;34m)\u001b[0m\u001b[0;34m\u001b[0m\u001b[0;34m\u001b[0m\u001b[0m\n\u001b[0m\u001b[1;32m    173\u001b[0m     \u001b[0mtestset\u001b[0m \u001b[0;34m=\u001b[0m \u001b[0mget_validation_data\u001b[0m\u001b[0;34m(\u001b[0m\u001b[0margs\u001b[0m\u001b[0;34m[\u001b[0m\u001b[0;34m'task'\u001b[0m\u001b[0;34m]\u001b[0m\u001b[0;34m)\u001b[0m\u001b[0;34m\u001b[0m\u001b[0;34m\u001b[0m\u001b[0m\n\u001b[1;32m    174\u001b[0m     \u001b[0mtrainloader\u001b[0m \u001b[0;34m=\u001b[0m \u001b[0mtorch\u001b[0m\u001b[0;34m.\u001b[0m\u001b[0mutils\u001b[0m\u001b[0;34m.\u001b[0m\u001b[0mdata\u001b[0m\u001b[0;34m.\u001b[0m\u001b[0mDataLoader\u001b[0m\u001b[0;34m(\u001b[0m\u001b[0mtrainset\u001b[0m\u001b[0;34m,\u001b[0m\u001b[0mbatch_size\u001b[0m\u001b[0;34m=\u001b[0m\u001b[0;36m128\u001b[0m\u001b[0;34m,\u001b[0m \u001b[0mshuffle\u001b[0m\u001b[0;34m=\u001b[0m \u001b[0;32mTrue\u001b[0m\u001b[0;34m,\u001b[0m\u001b[0mnum_workers\u001b[0m\u001b[0;34m=\u001b[0m\u001b[0;36m2\u001b[0m\u001b[0;34m)\u001b[0m\u001b[0;34m\u001b[0m\u001b[0;34m\u001b[0m\u001b[0m\n",
      "\u001b[0;32m/workspace/optas_irrelevant_class_project/utils/data_processing/get_dataset.py\u001b[0m in \u001b[0;36mget_train_data\u001b[0;34m(task)\u001b[0m\n\u001b[1;32m     69\u001b[0m     \u001b[0;32melse\u001b[0m\u001b[0;34m:\u001b[0m \u001b[0;31m#task == \"CIFAR100\"\u001b[0m\u001b[0;34m\u001b[0m\u001b[0;34m\u001b[0m\u001b[0m\n\u001b[1;32m     70\u001b[0m         \u001b[0mdataset1\u001b[0m\u001b[0;34m=\u001b[0m \u001b[0mdatasets\u001b[0m\u001b[0;34m.\u001b[0m\u001b[0mCIFAR10\u001b[0m\u001b[0;34m(\u001b[0m\u001b[0mroot\u001b[0m\u001b[0;34m=\u001b[0m\u001b[0;34m'../data'\u001b[0m\u001b[0;34m,\u001b[0m \u001b[0mtrain\u001b[0m\u001b[0;34m=\u001b[0m\u001b[0;32mTrue\u001b[0m\u001b[0;34m,\u001b[0m \u001b[0mdownload\u001b[0m\u001b[0;34m=\u001b[0m\u001b[0;32mTrue\u001b[0m\u001b[0;34m,\u001b[0m \u001b[0mtransform\u001b[0m\u001b[0;34m=\u001b[0m\u001b[0mCIFAR10Transform\u001b[0m\u001b[0;34m.\u001b[0m\u001b[0mtrain_transform\u001b[0m\u001b[0;34m(\u001b[0m\u001b[0;34m)\u001b[0m\u001b[0;34m)\u001b[0m\u001b[0;34m\u001b[0m\u001b[0;34m\u001b[0m\u001b[0m\n\u001b[0;32m---> 71\u001b[0;31m         \u001b[0mdataset\u001b[0m\u001b[0;34m=\u001b[0m \u001b[0mAugmentedDataset\u001b[0m\u001b[0;34m(\u001b[0m\u001b[0mroot\u001b[0m\u001b[0;34m=\u001b[0m\u001b[0;34m'../data'\u001b[0m\u001b[0;34m,\u001b[0m \u001b[0mtrain\u001b[0m\u001b[0;34m=\u001b[0m\u001b[0;32mTrue\u001b[0m\u001b[0;34m,\u001b[0m \u001b[0mdownload\u001b[0m\u001b[0;34m=\u001b[0m\u001b[0;32mTrue\u001b[0m\u001b[0;34m,\u001b[0m \u001b[0mtransform\u001b[0m\u001b[0;34m=\u001b[0m\u001b[0mCIFAR10Transform\u001b[0m\u001b[0;34m.\u001b[0m\u001b[0mtrain_transform\u001b[0m\u001b[0;34m(\u001b[0m\u001b[0;34m)\u001b[0m\u001b[0;34m,\u001b[0m \u001b[0mcifar10_dataset\u001b[0m \u001b[0;34m=\u001b[0m \u001b[0mdataset1\u001b[0m\u001b[0;34m)\u001b[0m\u001b[0;34m\u001b[0m\u001b[0;34m\u001b[0m\u001b[0m\n\u001b[0m\u001b[1;32m     72\u001b[0m     \u001b[0;32mreturn\u001b[0m \u001b[0mdataset\u001b[0m\u001b[0;34m\u001b[0m\u001b[0;34m\u001b[0m\u001b[0m\n\u001b[1;32m     73\u001b[0m \u001b[0;34m\u001b[0m\u001b[0m\n",
      "\u001b[0;32m/workspace/optas_irrelevant_class_project/utils/data_processing/get_dataset.py\u001b[0m in \u001b[0;36m__init__\u001b[0;34m(self, root, train, download, transform, cifar10_dataset)\u001b[0m\n\u001b[1;32m     37\u001b[0m         \u001b[0mcifar10_dataset\u001b[0m\u001b[0;34m.\u001b[0m\u001b[0mtargets\u001b[0m\u001b[0;34m=\u001b[0m\u001b[0mnp\u001b[0m\u001b[0;34m.\u001b[0m\u001b[0marray\u001b[0m\u001b[0;34m(\u001b[0m\u001b[0mcifar10_dataset\u001b[0m\u001b[0;34m.\u001b[0m\u001b[0mtargets\u001b[0m\u001b[0;34m)\u001b[0m\u001b[0;34m\u001b[0m\u001b[0;34m\u001b[0m\u001b[0m\n\u001b[1;32m     38\u001b[0m         \u001b[0mself\u001b[0m\u001b[0;34m.\u001b[0m\u001b[0mtargets\u001b[0m \u001b[0;34m=\u001b[0m \u001b[0mnp\u001b[0m\u001b[0;34m.\u001b[0m\u001b[0mconcatenate\u001b[0m\u001b[0;34m(\u001b[0m\u001b[0;34m[\u001b[0m\u001b[0mself\u001b[0m\u001b[0;34m.\u001b[0m\u001b[0mtargets\u001b[0m\u001b[0;34m,\u001b[0m \u001b[0mcifar10_dataset\u001b[0m\u001b[0;34m.\u001b[0m\u001b[0mtargets\u001b[0m\u001b[0;34m]\u001b[0m\u001b[0;34m)\u001b[0m\u001b[0;34m\u001b[0m\u001b[0;34m\u001b[0m\u001b[0m\n\u001b[0;32m---> 39\u001b[0;31m         \u001b[0mself\u001b[0m\u001b[0;34m.\u001b[0m\u001b[0mdata\u001b[0m \u001b[0;34m=\u001b[0m \u001b[0mnp\u001b[0m\u001b[0;34m.\u001b[0m\u001b[0mconcatenate\u001b[0m\u001b[0;34m(\u001b[0m\u001b[0;34m[\u001b[0m\u001b[0mself\u001b[0m\u001b[0;34m.\u001b[0m\u001b[0mdata\u001b[0m\u001b[0;34m,\u001b[0m\u001b[0mcifar10_dataset\u001b[0m\u001b[0;34m.\u001b[0m\u001b[0mdata\u001b[0m\u001b[0;34m]\u001b[0m\u001b[0;34m)\u001b[0m\u001b[0;34m\u001b[0m\u001b[0;34m\u001b[0m\u001b[0m\n\u001b[0m\u001b[1;32m     40\u001b[0m \u001b[0;34m\u001b[0m\u001b[0m\n\u001b[1;32m     41\u001b[0m     \u001b[0;32mdef\u001b[0m \u001b[0m__len__\u001b[0m\u001b[0;34m(\u001b[0m\u001b[0mself\u001b[0m\u001b[0;34m)\u001b[0m\u001b[0;34m:\u001b[0m\u001b[0;34m\u001b[0m\u001b[0;34m\u001b[0m\u001b[0m\n",
      "\u001b[0;31mNameError\u001b[0m: name 'dataset' is not defined"
     ]
    }
   ],
   "source": [
    "%run main.py --task=CIFAR100 --lr=0.001 --epochs=50 --algorithm=Adam --model=ResNet18 --regularization"
   ]
  },
  {
   "cell_type": "code",
   "execution_count": 52,
   "metadata": {},
   "outputs": [
    {
     "name": "stdout",
     "output_type": "stream",
     "text": [
      "Files already downloaded and verified\n"
     ]
    }
   ],
   "source": [
    "import torch\n",
    "from torchvision import datasets, transforms\n",
    "import numpy as np\n",
    "\n",
    "class CIFAR10Transform:\n",
    "    def train_transform():\n",
    "        return transforms.Compose([\n",
    "               transforms.RandomCrop(32, padding=4),\n",
    "               transforms.RandomHorizontalFlip(),\n",
    "               transforms.ToTensor(),\n",
    "               transforms.Normalize((0.4914, 0.4822, 0.4465), (0.2023, 0.1994, 0.2010)),])\n",
    "\n",
    "    def test_transform():\n",
    "        return transforms.Compose([\n",
    "               transforms.ToTensor(),\n",
    "               transforms.Normalize((0.4914, 0.4822, 0.4465), (0.2023, 0.1994, 0.2010)),])\n",
    "\n",
    "\n",
    "    \n",
    "dataset= datasets.CIFAR100(root='../data', train=True, download=True, transform=CIFAR10Transform.train_transform())"
   ]
  },
  {
   "cell_type": "code",
   "execution_count": 58,
   "metadata": {},
   "outputs": [],
   "source": [
    "class AugmentedDataset(datasets.cifar.CIFAR100):\n",
    "    def __init__(self,root, train, download, transform,cifar10_dataset):\n",
    "        super().__init__(root=root, train=train,download=download,transform=transform)\n",
    "        self.targets = np.array(self.targets)\n",
    "        indices = (self.targets != self.class_to_idx['bicycle']) & (self.targets != self.class_to_idx['bus']) & (self.targets != self.class_to_idx['motorcycle']) & (self.targets != self.class_to_idx['pickup_truck']) & (self.targets != self.class_to_idx['train']) & (self.targets != self.class_to_idx['lawn_mower']) & (self.targets != self.class_to_idx['streetcar']) & (self.targets != self.class_to_idx['rocket']) & (self.targets != self.class_to_idx['tank']) & (self.targets != self.class_to_idx['tractor'])\n",
    "        self.targets=self.targets[indices]\n",
    "        self.data = self.data[indices]\n",
    "        self.targets[:] = 10\n",
    "        self.improper_dataset_size = len(self.data)\n",
    "        self.improper_augmented_dataset_size=8*len(self.data)\n",
    "        self.proper_dataset_size=len(cifar10_dataset.data)\n",
    "        cifar10_dataset.targets=np.array(cifar10_dataset.targets)\n",
    "        self.targets = np.concatenate([self.targets, cifar10_dataset.targets])\n",
    "        self.data = np.concatenate([self.data,cifar10_dataset.data])\n",
    "\n",
    "    def __len__(self):\n",
    "        return self.improper_augmented_dataset_size + self.proper_dataset_size\n",
    "\n",
    "    def __getitem__(self, idx):\n",
    "        if (idx >= self.improper_augmented_dataset_size):\n",
    "            idx = self.improper_dataset_size + idx - self.improper_augmented_dataset_size\n",
    "            return self.data[idx], self.targets[idx]\n",
    "        \n",
    "        idx = idx % self.improper_dataset_size\n",
    "        trnsf= idx / self.improper_dataset_size\n",
    "        x = self.data[idx]\n",
    "        if (trnsf%2):\n",
    "            x=transforms.functional.vflip(x)\n",
    "        if ((trnsf/2)%2):\n",
    "            x=transforms.functional.hflip(x)\n",
    "        if ((trnsf/4)%2):\n",
    "            x=transforms.functional.rotate(x,90)\n",
    "        \n",
    "        return x, self.targets[idx]"
   ]
  },
  {
   "cell_type": "code",
   "execution_count": 43,
   "metadata": {},
   "outputs": [
    {
     "name": "stdout",
     "output_type": "stream",
     "text": [
      "Files already downloaded and verified\n"
     ]
    }
   ],
   "source": [
    "dataset=AugmentedDataset(root='../data', train=True, download=True, transform=CIFAR10Transform.train_transform())"
   ]
  },
  {
   "cell_type": "code",
   "execution_count": 44,
   "metadata": {},
   "outputs": [
    {
     "data": {
      "text/plain": [
       "360000"
      ]
     },
     "execution_count": 44,
     "metadata": {},
     "output_type": "execute_result"
    }
   ],
   "source": [
    "len(dataset)"
   ]
  },
  {
   "cell_type": "code",
   "execution_count": 45,
   "metadata": {},
   "outputs": [],
   "source": [
    "loader = torch.utils.data.DataLoader(dataset, batch_size=100,\n",
    "                                          shuffle=True, num_workers=2)"
   ]
  },
  {
   "cell_type": "code",
   "execution_count": 48,
   "metadata": {},
   "outputs": [
    {
     "data": {
      "text/plain": [
       "3600"
      ]
     },
     "execution_count": 48,
     "metadata": {},
     "output_type": "execute_result"
    }
   ],
   "source": [
    "len(loader)"
   ]
  },
  {
   "cell_type": "code",
   "execution_count": 46,
   "metadata": {},
   "outputs": [],
   "source": [
    "imgs=next(iter(loader))"
   ]
  },
  {
   "cell_type": "code",
   "execution_count": 47,
   "metadata": {},
   "outputs": [
    {
     "data": {
      "text/plain": [
       "tensor([[[[ 70,  52,  35],\n",
       "          [113,  85,  66],\n",
       "          [105,  70,  52],\n",
       "          ...,\n",
       "          [ 41,  22,  17],\n",
       "          [ 46,  24,  19],\n",
       "          [ 32,  10,   6]],\n",
       "\n",
       "         [[ 77,  62,  43],\n",
       "          [ 80,  54,  41],\n",
       "          [108,  71,  45],\n",
       "          ...,\n",
       "          [ 41,  24,  19],\n",
       "          [ 40,  21,  17],\n",
       "          [ 25,   6,   3]],\n",
       "\n",
       "         [[ 55,  45,  25],\n",
       "          [ 72,  52,  36],\n",
       "          [145, 111,  74],\n",
       "          ...,\n",
       "          [ 31,  14,   9],\n",
       "          [ 34,  14,   9],\n",
       "          [ 27,   8,   4]],\n",
       "\n",
       "         ...,\n",
       "\n",
       "         [[179, 158, 135],\n",
       "          [169, 150, 125],\n",
       "          [181, 163, 138],\n",
       "          ...,\n",
       "          [206, 175, 154],\n",
       "          [194, 157, 140],\n",
       "          [151, 108,  95]],\n",
       "\n",
       "         [[183, 162, 145],\n",
       "          [178, 157, 132],\n",
       "          [184, 166, 137],\n",
       "          ...,\n",
       "          [209, 177, 152],\n",
       "          [165, 124, 104],\n",
       "          [106,  61,  48]],\n",
       "\n",
       "         [[194, 174, 156],\n",
       "          [174, 152, 125],\n",
       "          [158, 140, 110],\n",
       "          ...,\n",
       "          [188, 153, 127],\n",
       "          [129,  90,  71],\n",
       "          [ 74,  35,  26]]],\n",
       "\n",
       "\n",
       "        [[[255, 255, 255],\n",
       "          [255, 255, 255],\n",
       "          [255, 255, 255],\n",
       "          ...,\n",
       "          [255, 255, 255],\n",
       "          [255, 255, 255],\n",
       "          [255, 255, 255]],\n",
       "\n",
       "         [[255, 255, 255],\n",
       "          [254, 254, 254],\n",
       "          [254, 254, 254],\n",
       "          ...,\n",
       "          [254, 254, 254],\n",
       "          [254, 254, 254],\n",
       "          [254, 254, 254]],\n",
       "\n",
       "         [[255, 255, 255],\n",
       "          [254, 254, 254],\n",
       "          [255, 255, 255],\n",
       "          ...,\n",
       "          [255, 255, 255],\n",
       "          [255, 255, 255],\n",
       "          [255, 255, 255]],\n",
       "\n",
       "         ...,\n",
       "\n",
       "         [[255, 255, 255],\n",
       "          [254, 254, 254],\n",
       "          [255, 255, 255],\n",
       "          ...,\n",
       "          [255, 255, 255],\n",
       "          [255, 255, 255],\n",
       "          [255, 255, 255]],\n",
       "\n",
       "         [[255, 255, 255],\n",
       "          [254, 254, 254],\n",
       "          [255, 255, 255],\n",
       "          ...,\n",
       "          [255, 255, 255],\n",
       "          [255, 255, 255],\n",
       "          [255, 255, 255]],\n",
       "\n",
       "         [[255, 255, 255],\n",
       "          [254, 254, 254],\n",
       "          [255, 255, 255],\n",
       "          ...,\n",
       "          [255, 255, 255],\n",
       "          [255, 255, 255],\n",
       "          [255, 255, 255]]],\n",
       "\n",
       "\n",
       "        [[[152, 158, 158],\n",
       "          [180, 179, 183],\n",
       "          [ 49,  54,  50],\n",
       "          ...,\n",
       "          [137, 143, 116],\n",
       "          [164, 167, 129],\n",
       "          [160, 164, 123]],\n",
       "\n",
       "         [[163, 169, 169],\n",
       "          [172, 170, 171],\n",
       "          [ 52,  60,  59],\n",
       "          ...,\n",
       "          [140, 149, 124],\n",
       "          [138, 150, 122],\n",
       "          [125, 139, 106]],\n",
       "\n",
       "         [[171, 173, 173],\n",
       "          [164, 164, 162],\n",
       "          [ 60,  67,  63],\n",
       "          ...,\n",
       "          [147, 156, 131],\n",
       "          [152, 162, 134],\n",
       "          [148, 160, 129]],\n",
       "\n",
       "         ...,\n",
       "\n",
       "         [[ 87,  81,  72],\n",
       "          [ 93,  89,  81],\n",
       "          [ 95,  92,  83],\n",
       "          ...,\n",
       "          [134, 136, 142],\n",
       "          [142, 146, 153],\n",
       "          [148, 154, 161]],\n",
       "\n",
       "         [[ 84,  69,  60],\n",
       "          [ 84,  73,  65],\n",
       "          [ 81,  70,  62],\n",
       "          ...,\n",
       "          [140, 142, 146],\n",
       "          [142, 147, 156],\n",
       "          [144, 151, 160]],\n",
       "\n",
       "         [[ 73,  56,  45],\n",
       "          [ 81,  63,  51],\n",
       "          [ 86,  65,  52],\n",
       "          ...,\n",
       "          [131, 131, 136],\n",
       "          [125, 128, 134],\n",
       "          [128, 132, 139]]],\n",
       "\n",
       "\n",
       "        ...,\n",
       "\n",
       "\n",
       "        [[[226, 226, 226],\n",
       "          [221, 221, 221],\n",
       "          [220, 220, 221],\n",
       "          ...,\n",
       "          [ 62,  57,  54],\n",
       "          [ 55,  50,  47],\n",
       "          [ 40,  36,  31]],\n",
       "\n",
       "         [[226, 226, 226],\n",
       "          [225, 225, 225],\n",
       "          [226, 226, 226],\n",
       "          ...,\n",
       "          [ 60,  55,  50],\n",
       "          [ 54,  49,  44],\n",
       "          [ 38,  34,  27]],\n",
       "\n",
       "         [[226, 226, 226],\n",
       "          [229, 229, 229],\n",
       "          [232, 232, 232],\n",
       "          ...,\n",
       "          [ 55,  51,  43],\n",
       "          [ 50,  46,  38],\n",
       "          [ 44,  40,  31]],\n",
       "\n",
       "         ...,\n",
       "\n",
       "         [[ 25,  22,  25],\n",
       "          [ 60,  62,  72],\n",
       "          [115, 122, 139],\n",
       "          ...,\n",
       "          [124, 122, 115],\n",
       "          [126, 126, 127],\n",
       "          [116, 116, 126]],\n",
       "\n",
       "         [[ 72,  73,  85],\n",
       "          [121, 124, 141],\n",
       "          [145, 152, 174],\n",
       "          ...,\n",
       "          [129, 127, 124],\n",
       "          [114, 114, 118],\n",
       "          [101, 102, 112]],\n",
       "\n",
       "         [[119, 128, 147],\n",
       "          [142, 149, 169],\n",
       "          [149, 154, 176],\n",
       "          ...,\n",
       "          [111, 112, 114],\n",
       "          [102, 103, 109],\n",
       "          [103, 103, 112]]],\n",
       "\n",
       "\n",
       "        [[[  8, 104, 158],\n",
       "          [  2, 103, 159],\n",
       "          [  0, 104, 159],\n",
       "          ...,\n",
       "          [  1, 120, 172],\n",
       "          [  1, 120, 171],\n",
       "          [  1, 120, 171]],\n",
       "\n",
       "         [[  8, 109, 163],\n",
       "          [  2, 108, 165],\n",
       "          [  1, 110, 166],\n",
       "          ...,\n",
       "          [  1, 126, 177],\n",
       "          [  1, 125, 177],\n",
       "          [  1, 125, 176]],\n",
       "\n",
       "         [[  7, 113, 166],\n",
       "          [  1, 112, 168],\n",
       "          [  0, 113, 168],\n",
       "          ...,\n",
       "          [  1, 130, 182],\n",
       "          [  2, 131, 182],\n",
       "          [  1, 130, 182]],\n",
       "\n",
       "         ...,\n",
       "\n",
       "         [[129, 109,  94],\n",
       "          [ 99,  79,  67],\n",
       "          [ 57,  39,  31],\n",
       "          ...,\n",
       "          [195, 154, 106],\n",
       "          [194, 153, 105],\n",
       "          [189, 151, 102]],\n",
       "\n",
       "         [[126, 102,  86],\n",
       "          [122,  98,  82],\n",
       "          [ 65,  45,  36],\n",
       "          ...,\n",
       "          [166, 135, 100],\n",
       "          [183, 149, 108],\n",
       "          [187, 150, 105]],\n",
       "\n",
       "         [[118, 100,  82],\n",
       "          [121, 103,  83],\n",
       "          [ 89,  78,  63],\n",
       "          ...,\n",
       "          [ 74,  54,  42],\n",
       "          [146, 117,  95],\n",
       "          [181, 144, 112]]],\n",
       "\n",
       "\n",
       "        [[[  1,   2,   2],\n",
       "          [  8,  13,  10],\n",
       "          [ 22,  35,  29],\n",
       "          ...,\n",
       "          [ 31,  32,  27],\n",
       "          [  8,   8,   6],\n",
       "          [  2,   2,   1]],\n",
       "\n",
       "         [[  1,   1,   2],\n",
       "          [  0,   2,   1],\n",
       "          [  4,  12,  12],\n",
       "          ...,\n",
       "          [ 35,  36,  31],\n",
       "          [ 24,  25,  21],\n",
       "          [  5,   5,   5]],\n",
       "\n",
       "         [[  1,   0,   1],\n",
       "          [  1,   2,   2],\n",
       "          [  4,  12,  12],\n",
       "          ...,\n",
       "          [ 34,  34,  29],\n",
       "          [ 29,  30,  25],\n",
       "          [ 21,  21,  21]],\n",
       "\n",
       "         ...,\n",
       "\n",
       "         [[221, 232, 211],\n",
       "          [217, 230, 228],\n",
       "          [220, 229, 201],\n",
       "          ...,\n",
       "          [ 59,  54,  65],\n",
       "          [ 64,  60,  75],\n",
       "          [ 56,  51,  67]],\n",
       "\n",
       "         [[227, 240, 245],\n",
       "          [223, 234, 234],\n",
       "          [227, 235, 230],\n",
       "          ...,\n",
       "          [ 87,  87, 106],\n",
       "          [ 61,  61,  73],\n",
       "          [ 58,  53,  58]],\n",
       "\n",
       "         [[225, 238, 235],\n",
       "          [232, 242, 240],\n",
       "          [206, 210, 198],\n",
       "          ...,\n",
       "          [ 98, 100, 121],\n",
       "          [ 86,  88, 110],\n",
       "          [ 69,  64,  77]]]], dtype=torch.uint8)"
      ]
     },
     "execution_count": 47,
     "metadata": {},
     "output_type": "execute_result"
    }
   ],
   "source": [
    "imgs[0]"
   ]
  },
  {
   "cell_type": "code",
   "execution_count": 32,
   "metadata": {},
   "outputs": [],
   "source": [
    "my_img=dataset[0]"
   ]
  },
  {
   "cell_type": "code",
   "execution_count": 27,
   "metadata": {},
   "outputs": [],
   "source": [
    "my_img_flip= transforms.functional.vflip(my_img[0])"
   ]
  },
  {
   "cell_type": "code",
   "execution_count": 33,
   "metadata": {},
   "outputs": [],
   "source": [
    "my_img_rot=transforms.functional.rotate(my_img[0],90)"
   ]
  },
  {
   "cell_type": "code",
   "execution_count": 37,
   "metadata": {},
   "outputs": [
    {
     "name": "stderr",
     "output_type": "stream",
     "text": [
      "Clipping input data to the valid range for imshow with RGB data ([0..1] for floats or [0..255] for integers).\n"
     ]
    },
    {
     "data": {
      "image/png": "[encoded data removed]",
      "text/plain": [
       "<Figure size 432x288 with 1 Axes>"
      ]
     },
     "metadata": {
      "needs_background": "light"
     },
     "output_type": "display_data"
    }
   ],
   "source": [
    "imshow(my_img[0])"
   ]
  },
  {
   "cell_type": "code",
   "execution_count": 101,
   "metadata": {},
   "outputs": [
    {
     "name": "stdout",
     "output_type": "stream",
     "text": [
      "Files already downloaded and verified\n",
      "Files already downloaded and verified\n",
      "\n",
      "Epoch: 0\n",
      " [================================================================>]  Step: 51ms | Tot: 19s2ms | Loss: 1.848 | Acc: 26.742% (13371/50000) 391/391 1 ......]  Step: 51ms | Tot: 2s180ms | Loss: 2.186 | Acc: 16.644% (980/5888) 46/391 .....................]  Step: 49ms | Tot: 2s230ms | Loss: 2.179 | Acc: 16.722% (1006/6016) 47/391  144/391 ]  Step: 50ms | Tot: 7s564ms | Loss: 2.006 | Acc: 20.106% (3989/19840) 155/391 =========================>.....................................]  Step: 45ms | Tot: 8s62ms | Loss: 1.996 | Acc: 20.507% (4331/21120) 165/391  172/391 ===================================>.............................]  Step: 43ms | Tot: 10s579ms | Loss: 1.957 | Acc: 22.320% (6171/27648) 216/391  283/391   Step: 63ms | Tot: 14s433ms | Loss: 1.915 | Acc: 23.895% (9084/38016) 297/391 ......]  Step: 57ms | Tot: 17s157ms | Loss: 1.876 | Acc: 25.557% (11515/45056) 352/391 ..]  Step: 68ms | Tot: 18s209ms | Loss: 1.860 | Acc: 26.279% (12614/48000) 375/391  378/391 \n",
      " [================================================================>]  Step: 19ms | Tot: 1s896ms | Loss: 1.753 | Acc: 35.080% (3508/10000) 100/100 \n",
      "Saving..\n",
      "\n",
      "Epoch: 1\n",
      " [================================================================>]  Step: 45ms | Tot: 18s620ms | Loss: 1.332 | Acc: 49.614% (24807/50000) 391/391 =====>.......................................................]  Step: 41ms | Tot: 2s566ms | Loss: 1.538 | Acc: 39.160% (2807/7168) 56/391 ===================>.....................................]  Step: 52ms | Tot: 7s897ms | Loss: 1.463 | Acc: 43.205% (9125/21120) 165/391 .]  Step: 58ms | Tot: 9s640ms | Loss: 1.441 | Acc: 44.338% (11464/25856) 202/391 ==================================>..............................]  Step: 52ms | Tot: 9s896ms | Loss: 1.437 | Acc: 44.531% (11799/26496) 207/391 ===========================>.......]  Step: 48ms | Tot: 16s492ms | Loss: 1.358 | Acc: 48.419% (21506/44416) 347/391 =======================================>.....]  Step: 45ms | Tot: 17s143ms | Loss: 1.350 | Acc: 48.761% (22469/46080) 360/391 \n",
      " [================================================================>]  Step: 21ms | Tot: 1s928ms | Loss: 1.407 | Acc: 53.150% (5315/10000) 100/100 =======================>.....................................]  Step: 17ms | Tot: 813ms | Loss: 1.418 | Acc: 53.884% (2317/4300) 43/100 ===================================================>.........]  Step: 18ms | Tot: 1s602ms | Loss: 1.414 | Acc: 53.221% (4577/8600) 86/100  88/100 \n",
      "Test error is 0.4685 0.4685\n",
      "Hamming distance between rounds is 0.5779\n",
      "Test error of previous epoch is 0.6492\n",
      "Saving..\n",
      "\n",
      "Epoch: 2\n",
      " [================================================================>]  Step: 49ms | Tot: 18s778ms | Loss: 0.989 | Acc: 64.240% (32120/50000) 391/391 .........................................]  Step: 65ms | Tot: 2s405ms | Loss: 1.067 | Acc: 60.500% (3872/6400) 50/391 =========>.......................................................]  Step: 45ms | Tot: 2s806ms | Loss: 1.063 | Acc: 60.818% (4593/7552) 59/391 .................................]  Step: 57ms | Tot: 7s88ms | Loss: 1.052 | Acc: 61.360% (11624/18944) 148/391 ==================================>..............................]  Step: 54ms | Tot: 10s47ms | Loss: 1.028 | Acc: 62.489% (16717/26752) 209/391 ...]  Step: 54ms | Tot: 11s171ms | Loss: 1.024 | Acc: 62.652% (18605/29696) 232/391  352/391 \n",
      " [================================================================>]  Step: 25ms | Tot: 2s210ms | Loss: 1.301 | Acc: 59.110% (5911/10000) 100/100 ]  Step: 26ms | Tot: 1s311ms | Loss: 1.328 | Acc: 58.559% (3455/5900) 59/100   Step: 24ms | Tot: 1s598ms | Loss: 1.328 | Acc: 58.704% (4168/7100) 71/100 .]  Step: 26ms | Tot: 1s675ms | Loss: 1.329 | Acc: 58.662% (4341/7400) 74/100 ]  Step: 24ms | Tot: 1s700ms | Loss: 1.327 | Acc: 58.707% (4403/7500) 75/100 ==============================================>................]  Step: 24ms | Tot: 1s725ms | Loss: 1.324 | Acc: 58.737% (4464/7600) 76/100  78/100 \n",
      "Test error is 0.4089 0.40890000000000004\n",
      "Hamming distance between rounds is 0.3635\n",
      "Test error of previous epoch is 0.4685\n",
      "Saving..\n",
      "\n",
      "Epoch: 3\n",
      " [================================================================>]  Step: 43ms | Tot: 18s552ms | Loss: 0.825 | Acc: 71.204% (35602/50000) 391/391 ==========>..................................................]  Step: 42ms | Tot: 4s237ms | Loss: 0.867 | Acc: 69.609% (8108/11648) 91/391 =========================================>..................]  Step: 57ms | Tot: 13s192ms | Loss: 0.848 | Acc: 70.425% (25150/35712) 279/391 \n",
      " [================================================================>]  Step: 15ms | Tot: 2s19ms | Loss: 0.815 | Acc: 72.010% (7201/10000) 100/100 Step: 23ms | Tot: 324ms | Loss: 0.787 | Acc: 72.375% (1158/1600) 16/100 .]  Step: 25ms | Tot: 399ms | Loss: 0.788 | Acc: 72.105% (1370/1900) 19/100 =============================================================>...]  Step: 19ms | Tot: 1s948ms | Loss: 0.815 | Acc: 72.031% (6915/9600) 96/100 \n",
      "Test error is 0.2799 0.2798999999999999\n",
      "Hamming distance between rounds is 0.3274\n",
      "Test error of previous epoch is 0.4089\n",
      "Saving..\n",
      "\n",
      "Epoch: 4\n",
      " [================================================================>]  Step: 57ms | Tot: 18s677ms | Loss: 0.710 | Acc: 75.767% (37823/49920) 390/391 ep: 62ms | Tot: 2s596ms | Loss: 0.745 | Acc: 74.062% (5214/7040) 55/391 ..............]  Step: 49ms | Tot: 13s702ms | Loss: 0.724 | Acc: 75.289% (27851/36992) 289/391  290/391 .]  Step: 49ms | Tot: 17s890ms | Loss: 0.712 | Acc: 75.662% (36124/47744) 373/391 ================================================================>]  Step: 52ms | Tot: 18s730ms | Loss: 0.710 | Acc: 75.760% (37880/50000) 391/391 \n",
      " [================================================================>]  Step: 19ms | Tot: 1s893ms | Loss: 0.714 | Acc: 75.770% (7577/10000) 100/100 ...........................]  Step: 19ms | Tot: 56ms | Loss: 0.648 | Acc: 76.250% (305/400) 4/100 ]  Step: 19ms | Tot: 745ms | Loss: 0.701 | Acc: 76.000% (3040/4000) 40/100 \n",
      "Test error is 0.2423 0.24230000000000007\n",
      "Hamming distance between rounds is 0.1827\n",
      "Test error of previous epoch is 0.2799\n",
      "Saving..\n",
      "\n",
      "Epoch: 5\n",
      " [================================================================>]  Step: 36ms | Tot: 18s666ms | Loss: 0.616 | Acc: 79.326% (39663/50000) 391/391 tep: 64ms | Tot: 1s338ms | Loss: 0.616 | Acc: 79.635% (3058/3840) 30/391 .......]  Step: 63ms | Tot: 10s183ms | Loss: 0.631 | Acc: 78.836% (21292/27008) 211/391 ........]  Step: 68ms | Tot: 13s26ms | Loss: 0.628 | Acc: 78.912% (27373/34688) 271/391 .......]  Step: 51ms | Tot: 15s127ms | Loss: 0.623 | Acc: 79.149% (32014/40448) 316/391 \n",
      " [================================================================>]  Step: 16ms | Tot: 1s941ms | Loss: 0.674 | Acc: 77.970% (7797/10000) 100/100 ep: 21ms | Tot: 242ms | Loss: 0.651 | Acc: 79.250% (951/1200) 12/100 \n",
      "Test error is 0.2203 0.22030000000000005\n",
      "Hamming distance between rounds is 0.1875\n",
      "Test error of previous epoch is 0.2423\n",
      "Saving..\n",
      "\n",
      "Epoch: 6\n",
      " [================================================================>]  Step: 44ms | Tot: 18s854ms | Loss: 0.556 | Acc: 81.454% (40727/50000) 391/391 ....................]  Step: 58ms | Tot: 5s511ms | Loss: 0.581 | Acc: 80.489% (11642/14464) 113/391 ....................]  Step: 48ms | Tot: 6s763ms | Loss: 0.576 | Acc: 80.636% (14450/17920) 140/391 \n",
      " [================================================================>]  Step: 27ms | Tot: 1s982ms | Loss: 0.672 | Acc: 78.130% (7813/10000) 100/100 100 ===================>..........]  Step: 22ms | Tot: 1s670ms | Loss: 0.677 | Acc: 77.929% (6624/8500) 85/100 ====>..]  Step: 22ms | Tot: 1s915ms | Loss: 0.668 | Acc: 78.278% (7593/9700) 97/100 \n",
      "Test error is 0.2187 0.2187\n",
      "Hamming distance between rounds is 0.1786\n",
      "Test error of previous epoch is 0.2203\n",
      "Saving..\n",
      "\n",
      "Epoch: 7\n",
      " [================================================================>]  Step: 41ms | Tot: 18s814ms | Loss: 0.499 | Acc: 83.426% (41713/50000) 391/391 .]  Step: 57ms | Tot: 10s981ms | Loss: 0.509 | Acc: 83.172% (23847/28672) 224/391 ....]  Step: 61ms | Tot: 13s999ms | Loss: 0.506 | Acc: 83.221% (30785/36992) 289/391 .]  Step: 63ms | Tot: 15s767ms | Loss: 0.504 | Acc: 83.278% (34857/41856) 327/391 .....]  Step: 63ms | Tot: 16s278ms | Loss: 0.503 | Acc: 83.311% (35937/43136) 337/391 \n",
      " [================================================================>]  Step: 20ms | Tot: 2s63ms | Loss: 0.575 | Acc: 81.520% (8152/10000) 100/100 /100 =======>............................................]  Step: 20ms | Tot: 688ms | Loss: 0.569 | Acc: 81.781% (2617/3200) 32/100 ......]  Step: 17ms | Tot: 948ms | Loss: 0.573 | Acc: 81.867% (3684/4500) 45/100   Step: 21ms | Tot: 1s612ms | Loss: 0.580 | Acc: 81.403% (6268/7700) 77/100 ==========================================================>......]  Step: 20ms | Tot: 1s893ms | Loss: 0.583 | Acc: 81.286% (7397/9100) 91/100 \n",
      "Test error is 0.1848 0.18480000000000008\n",
      "Hamming distance between rounds is 0.2014\n",
      "Test error of previous epoch is 0.2187\n",
      "Saving..\n",
      "\n",
      "Epoch: 8\n",
      " [================================================================>]  Step: 42ms | Tot: 18s927ms | Loss: 0.451 | Acc: 85.000% (42500/50000) 391/391 ============================>.................................]  Step: 50ms | Tot: 9s210ms | Loss: 0.460 | Acc: 84.712% (20602/24320) 190/391 ...]  Step: 60ms | Tot: 14s732ms | Loss: 0.456 | Acc: 84.849% (33125/39040) 305/391 ================================================================>]  Step: 50ms | Tot: 18s833ms | Loss: 0.451 | Acc: 84.990% (42318/49792) 389/391 \n",
      " [================================================================>]  Step: 17ms | Tot: 1s890ms | Loss: 0.557 | Acc: 83.170% (8317/10000) 100/100 \n",
      "Test error is 0.1683 0.1683\n",
      "Hamming distance between rounds is 0.1482\n",
      "Test error of previous epoch is 0.1848\n",
      "Saving..\n",
      "\n",
      "Epoch: 9\n",
      " [================================================================>]  Step: 43ms | Tot: 18s851ms | Loss: 0.417 | Acc: 86.216% (43108/50000) 391/391 .................................]  Step: 65ms | Tot: 2s67ms | Loss: 0.413 | Acc: 86.186% (4854/5632) 44/391 .......]  Step: 59ms | Tot: 6s769ms | Loss: 0.420 | Acc: 86.059% (15532/18048) 141/391 ======================================>.........................]  Step: 50ms | Tot: 11s538ms | Loss: 0.419 | Acc: 86.151% (26576/30848) 241/391 ========>...............]  Step: 52ms | Tot: 14s184ms | Loss: 0.422 | Acc: 86.066% (32719/38016) 297/391 =======================================>.......]  Step: 46ms | Tot: 16s576ms | Loss: 0.419 | Acc: 86.157% (38157/44288) 346/391 \n",
      " [================================================================>]  Step: 23ms | Tot: 2s186ms | Loss: 0.700 | Acc: 78.830% (7883/10000) 100/100 ...............]  Step: 21ms | Tot: 40ms | Loss: 0.654 | Acc: 77.667% (233/300) 3/100 \n",
      "Test error is 0.2117 0.2117\n",
      "Hamming distance between rounds is 0.1883\n",
      "Test error of previous epoch is 0.1683\n",
      "\n",
      "Epoch: 10\n",
      " [================================================================>]  Step: 37ms | Tot: 18s908ms | Loss: 0.380 | Acc: 87.396% (43698/50000) 391/391 ...........]  Step: 59ms | Tot: 407ms | Loss: 0.391 | Acc: 86.719% (999/1152) 9/391 =====>...........................................................]  Step: 54ms | Tot: 1s675ms | Loss: 0.380 | Acc: 87.316% (3800/4352) 34/391  46/391 .................]  Step: 50ms | Tot: 3s766ms | Loss: 0.385 | Acc: 87.043% (8579/9856) 77/391 ===================>.............................................]  Step: 41ms | Tot: 5s692ms | Loss: 0.388 | Acc: 86.954% (12911/14848) 116/391 ...]  Step: 57ms | Tot: 6s | Loss: 0.389 | Acc: 86.975% (13582/15616) 122/391 ..]  Step: 62ms | Tot: 10s565ms | Loss: 0.387 | Acc: 87.174% (24325/27904) 218/391 .]  Step: 58ms | Tot: 14s645ms | Loss: 0.385 | Acc: 87.218% (33715/38656) 302/391 \n",
      " [================================================================>]  Step: 15ms | Tot: 2s36ms | Loss: 0.524 | Acc: 83.970% (8397/10000) 100/100 \n",
      "Test error is 0.1603 0.1603\n",
      "Hamming distance between rounds is 0.1763\n",
      "Test error of previous epoch is 0.2117\n",
      "Saving..\n",
      "\n",
      "Epoch: 11\n",
      " [================================================================>]  Step: 43ms | Tot: 18s776ms | Loss: 0.349 | Acc: 88.414% (44207/50000) 391/391 ......................................................]  Step: 62ms | Tot: 300ms | Loss: 0.360 | Acc: 88.170% (790/896) 7/391 ......]  Step: 61ms | Tot: 3s388ms | Loss: 0.348 | Acc: 88.123% (7783/8832) 69/391 ====================>............................................]  Step: 53ms | Tot: 5s968ms | Loss: 0.352 | Acc: 88.225% (14116/16000) 125/391 =================================>...............................]  Step: 42ms | Tot: 9s751ms | Loss: 0.353 | Acc: 88.227% (22586/25600) 200/391 =======================================>.........................]  Step: 55ms | Tot: 11s442ms | Loss: 0.348 | Acc: 88.424% (26711/30208) 236/391 ..]  Step: 54ms | Tot: 13s552ms | Loss: 0.353 | Acc: 88.320% (31654/35840) 280/391 ======================================================>......]  Step: 54ms | Tot: 16s904ms | Loss: 0.350 | Acc: 88.392% (39939/45184) 353/391 \n",
      " [================================================================>]  Step: 19ms | Tot: 1s929ms | Loss: 0.498 | Acc: 84.800% (8480/10000) 100/100 ...]  Step: 24ms | Tot: 42ms | Loss: 0.515 | Acc: 82.000% (246/300) 3/100 ...]  Step: 24ms | Tot: 261ms | Loss: 0.495 | Acc: 84.000% (1260/1500) 15/100   Step: 20ms | Tot: 1s385ms | Loss: 0.497 | Acc: 84.658% (6434/7600) 76/100  84/100 .]  Step: 24ms | Tot: 1s661ms | Loss: 0.500 | Acc: 84.713% (7370/8700) 87/100 \n",
      "Test error is 0.152 0.15200000000000002\n",
      "Hamming distance between rounds is 0.1246\n",
      "Test error of previous epoch is 0.1603\n",
      "Saving..\n",
      "\n",
      "Epoch: 12\n",
      " [================================================================>]  Step: 44ms | Tot: 19s54ms | Loss: 0.326 | Acc: 89.108% (44554/50000) 391/391  ]  Step: 59ms | Tot: 4s451ms | Loss: 0.322 | Acc: 89.300% (10173/11392) 89/391 ===================>.............................................]  Step: 42ms | Tot: 5s762ms | Loss: 0.326 | Acc: 89.150% (13237/14848) 116/391 ]  Step: 54ms | Tot: 8s338ms | Loss: 0.325 | Acc: 89.222% (19072/21376) 167/391 ==============================>..................................]  Step: 48ms | Tot: 9s195ms | Loss: 0.326 | Acc: 89.172% (21116/23680) 185/391 ...]  Step: 43ms | Tot: 9s604ms | Loss: 0.325 | Acc: 89.152% (22024/24704) 193/391 =========================================>.......................]  Step: 48ms | Tot: 12s301ms | Loss: 0.325 | Acc: 89.153% (28529/32000) 250/391 ......................]  Step: 55ms | Tot: 12s454ms | Loss: 0.325 | Acc: 89.167% (28876/32384) 253/391 \n",
      " [================================================================>]  Step: 19ms | Tot: 2s126ms | Loss: 0.474 | Acc: 85.690% (8569/10000) 100/100 ....................]  Step: 20ms | Tot: 514ms | Loss: 0.470 | Acc: 85.636% (1884/2200) 22/100 =========>..........................................]  Step: 27ms | Tot: 800ms | Loss: 0.489 | Acc: 85.500% (3078/3600) 36/100  39/100 =======================================>.........................]  Step: 18ms | Tot: 1s351ms | Loss: 0.480 | Acc: 85.754% (5231/6100) 61/100   Step: 28ms | Tot: 1s870ms | Loss: 0.478 | Acc: 85.586% (7446/8700) 87/100 \n",
      "Test error is 0.1431 0.1431\n",
      "Hamming distance between rounds is 0.13\n",
      "Test error of previous epoch is 0.152\n",
      "Saving..\n",
      "\n",
      "Epoch: 13\n",
      " [================================================================>]  Step: 48ms | Tot: 18s739ms | Loss: 0.302 | Acc: 89.936% (44968/50000) 391/391 ep: 61ms | Tot: 1s61ms | Loss: 0.290 | Acc: 90.115% (2653/2944) 23/391 ..............................]  Step: 62ms | Tot: 5s169ms | Loss: 0.305 | Acc: 89.712% (12287/13696) 107/391 ............]  Step: 68ms | Tot: 6s438ms | Loss: 0.308 | Acc: 89.748% (15049/16768) 131/391 =======>...........]  Step: 50ms | Tot: 15s430ms | Loss: 0.306 | Acc: 89.824% (36792/40960) 320/391 \n",
      " [================================================================>]  Step: 17ms | Tot: 1s868ms | Loss: 0.487 | Acc: 85.180% (8518/10000) 100/100 \n",
      "Test error is 0.1482 0.1481999999999999\n"
     ]
    },
    {
     "name": "stdout",
     "output_type": "stream",
     "text": [
      "Hamming distance between rounds is 0.1282\n",
      "Test error of previous epoch is 0.1431\n",
      "\n",
      "Epoch: 14\n",
      " [================================================================>]  Step: 40ms | Tot: 19s73ms | Loss: 0.285 | Acc: 90.560% (45280/50000) 391/391  ...........................................................]  Step: 50ms | Tot: 896ms | Loss: 0.295 | Acc: 90.337% (2197/2432) 19/391 =========>.....................................................]  Step: 50ms | Tot: 3s468ms | Loss: 0.289 | Acc: 90.569% (8115/8960) 70/391 ==================>............................................]  Step: 53ms | Tot: 6s346ms | Loss: 0.293 | Acc: 90.489% (14594/16128) 126/391 ................]  Step: 60ms | Tot: 8s662ms | Loss: 0.290 | Acc: 90.495% (20155/22272) 174/391 \n",
      " [================================================================>]  Step: 15ms | Tot: 2s22ms | Loss: 0.479 | Acc: 86.460% (8646/10000) 100/100 ...........]  Step: 26ms | Tot: 1s203ms | Loss: 0.487 | Acc: 86.491% (4930/5700) 57/100 \n",
      "Test error is 0.1354 0.13540000000000008\n",
      "Hamming distance between rounds is 0.1328\n",
      "Test error of previous epoch is 0.1482\n",
      "Saving..\n",
      "\n",
      "Epoch: 15\n",
      " [================================================================>]  Step: 51ms | Tot: 18s865ms | Loss: 0.267 | Acc: 91.184% (45592/50000) 391/391 .]  Step: 53ms | Tot: 3s895ms | Loss: 0.257 | Acc: 91.248% (9227/10112) 79/391 ....]  Step: 66ms | Tot: 5s118ms | Loss: 0.265 | Acc: 90.990% (12229/13440) 105/391 ..]  Step: 59ms | Tot: 14s729ms | Loss: 0.272 | Acc: 91.018% (35417/38912) 304/391 ========================================================>........]  Step: 57ms | Tot: 16s530ms | Loss: 0.269 | Acc: 91.112% (39885/43776) 342/391 ==============================================================>..]  Step: 49ms | Tot: 18s222ms | Loss: 0.269 | Acc: 91.126% (43974/48256) 377/391 \n",
      " [================================================================>]  Step: 17ms | Tot: 1s897ms | Loss: 0.468 | Acc: 86.150% (8615/10000) 100/100 \n",
      "Test error is 0.1385 0.13849999999999996\n",
      "Hamming distance between rounds is 0.1298\n",
      "Test error of previous epoch is 0.1354\n",
      "\n",
      "Epoch: 16\n",
      " [================================================================>]  Step: 41ms | Tot: 18s930ms | Loss: 0.247 | Acc: 91.868% (45934/50000) 391/391 ........................................................]  Step: 46ms | Tot: 256ms | Loss: 0.214 | Acc: 92.839% (713/768) 6/391  23/391 ................]  Step: 58ms | Tot: 2s626ms | Loss: 0.236 | Acc: 92.159% (6488/7040) 55/391 ..]  Step: 61ms | Tot: 5s14ms | Loss: 0.244 | Acc: 91.970% (12243/13312) 104/391 .............]  Step: 59ms | Tot: 9s814ms | Loss: 0.248 | Acc: 91.793% (23969/26112) 204/391 ....]  Step: 59ms | Tot: 17s389ms | Loss: 0.246 | Acc: 91.872% (42217/45952) 359/391 ==============================================================>..]  Step: 53ms | Tot: 18s287ms | Loss: 0.247 | Acc: 91.852% (44324/48256) 377/391 \n",
      " [================================================================>]  Step: 20ms | Tot: 2s3ms | Loss: 0.453 | Acc: 87.280% (8728/10000) 100/100 \n",
      "Test error is 0.1272 0.12719999999999998\n",
      "Hamming distance between rounds is 0.1142\n",
      "Test error of previous epoch is 0.1385\n",
      "Saving..\n",
      "\n",
      "Epoch: 17\n",
      " [================================================================>]  Step: 45ms | Tot: 18s816ms | Loss: 0.231 | Acc: 92.406% (46203/50000) 391/391 ...............................................]  Step: 53ms | Tot: 202ms | Loss: 0.188 | Acc: 93.125% (596/640) 5/391 ====>..........................................................]  Step: 50ms | Tot: 1s907ms | Loss: 0.227 | Acc: 92.852% (4754/5120) 40/391 ..]  Step: 62ms | Tot: 11s397ms | Loss: 0.234 | Acc: 92.394% (27792/30080) 235/391 ============================================================>....]  Step: 43ms | Tot: 17s522ms | Loss: 0.234 | Acc: 92.370% (42919/46464) 363/391 =============================================================>...]  Step: 51ms | Tot: 17s984ms | Loss: 0.233 | Acc: 92.389% (44110/47744) 373/391 \n",
      " [================================================================>]  Step: 20ms | Tot: 1s997ms | Loss: 0.435 | Acc: 87.470% (8747/10000) 100/100 100 ====================>.............]  Step: 22ms | Tot: 1s595ms | Loss: 0.436 | Acc: 87.513% (7001/8000) 80/100 \n",
      "Test error is 0.1253 0.12529999999999997\n",
      "Hamming distance between rounds is 0.1072\n",
      "Test error of previous epoch is 0.1272\n",
      "Saving..\n",
      "\n",
      "Epoch: 18\n",
      " [================================================================>]  Step: 56ms | Tot: 19s175ms | Loss: 0.221 | Acc: 92.622% (46311/50000) 391/391 ..................]  Step: 57ms | Tot: 2s900ms | Loss: 0.227 | Acc: 92.418% (7216/7808) 61/391 ........]  Step: 53ms | Tot: 11s973ms | Loss: 0.226 | Acc: 92.485% (29240/31616) 247/391 \n",
      " [================================================================>]  Step: 17ms | Tot: 1s962ms | Loss: 0.419 | Acc: 87.790% (8779/10000) 100/100 ..................................]  Step: 22ms | Tot: 654ms | Loss: 0.413 | Acc: 88.156% (2821/3200) 32/100 ========================>........................................]  Step: 18ms | Tot: 772ms | Loss: 0.424 | Acc: 87.789% (3336/3800) 38/100 \n",
      "Test error is 0.1221 0.12209999999999999\n",
      "Hamming distance between rounds is 0.1117\n",
      "Test error of previous epoch is 0.1253\n",
      "Saving..\n",
      "\n",
      "Epoch: 19\n",
      " [================================================================>]  Step: 50ms | Tot: 18s709ms | Loss: 0.206 | Acc: 93.192% (46596/50000) 391/391 ............................................]  Step: 41ms | Tot: 4s629ms | Loss: 0.199 | Acc: 93.347% (11590/12416) 97/391 ..]  Step: 62ms | Tot: 5s395ms | Loss: 0.199 | Acc: 93.366% (13624/14592) 114/391 ......]  Step: 51ms | Tot: 12s624ms | Loss: 0.207 | Acc: 93.123% (31468/33792) 264/391 =============================================>...................]  Step: 43ms | Tot: 13s158ms | Loss: 0.208 | Acc: 93.077% (32644/35072) 274/391 \n",
      " [================================================================>]  Step: 21ms | Tot: 1s888ms | Loss: 0.547 | Acc: 85.340% (8534/10000) 100/100 .....]  Step: 22ms | Tot: 1s114ms | Loss: 0.550 | Acc: 85.414% (4954/5800) 58/100 ]  Step: 24ms | Tot: 1s350ms | Loss: 0.545 | Acc: 85.535% (6073/7100) 71/100 \n",
      "Test error is 0.1466 0.14659999999999995\n",
      "Hamming distance between rounds is 0.131\n",
      "Test error of previous epoch is 0.1221\n",
      "\n",
      "Epoch: 20\n",
      " [================================================================>]  Step: 41ms | Tot: 18s833ms | Loss: 0.193 | Acc: 93.582% (46791/50000) 391/391 .]  Step: 51ms | Tot: 6s360ms | Loss: 0.189 | Acc: 93.633% (16060/17152) 134/391 ....]  Step: 57ms | Tot: 11s801ms | Loss: 0.191 | Acc: 93.478% (28836/30848) 241/391 ==============>............]  Step: 46ms | Tot: 15s153ms | Loss: 0.195 | Acc: 93.446% (37558/40192) 314/391 \n",
      " [================================================================>]  Step: 17ms | Tot: 1s920ms | Loss: 0.496 | Acc: 87.080% (8708/10000) 100/100 ...............................]  Step: 20ms | Tot: 44ms | Loss: 0.370 | Acc: 88.667% (266/300) 3/100 ======================>.]  Step: 18ms | Tot: 1s884ms | Loss: 0.496 | Acc: 87.061% (8532/9800) 98/100 \n",
      "Test error is 0.1292 0.12919999999999998\n",
      "Hamming distance between rounds is 0.1346\n",
      "Test error of previous epoch is 0.1466\n",
      "\n",
      "Epoch: 21\n",
      " [================================================================>]  Step: 41ms | Tot: 18s829ms | Loss: 0.182 | Acc: 93.906% (46953/50000) 391/391 177/391 =====>........]  Step: 59ms | Tot: 16s500ms | Loss: 0.183 | Acc: 93.908% (40989/43648) 341/391 ===============================================================>.]  Step: 55ms | Tot: 18s518ms | Loss: 0.182 | Acc: 93.905% (46156/49152) 384/391 \n",
      " [================================================================>]  Step: 16ms | Tot: 2s67ms | Loss: 0.510 | Acc: 85.900% (8590/10000) 100/100 tep: 21ms | Tot: 264ms | Loss: 0.450 | Acc: 87.429% (1224/1400) 14/100 \n",
      "Test error is 0.141 0.1409999999999999\n",
      "Hamming distance between rounds is 0.1316\n",
      "Test error of previous epoch is 0.1292\n",
      "\n",
      "Epoch: 22\n",
      " [================================================================>]  Step: 46ms | Tot: 18s623ms | Loss: 0.175 | Acc: 94.314% (47157/50000) 391/391 ================>...............................................]  Step: 54ms | Tot: 5s260ms | Loss: 0.178 | Acc: 94.366% (13166/13952) 109/391 \n",
      " [================================================================>]  Step: 19ms | Tot: 1s912ms | Loss: 0.430 | Acc: 88.240% (8824/10000) 100/100 Step: 20ms | Tot: 1s326ms | Loss: 0.428 | Acc: 88.458% (6369/7200) 72/100   Step: 22ms | Tot: 1s402ms | Loss: 0.428 | Acc: 88.453% (6634/7500) 75/100 \n",
      "Test error is 0.1176 0.11760000000000004\n",
      "Hamming distance between rounds is 0.1194\n",
      "Test error of previous epoch is 0.141\n",
      "Saving..\n",
      "\n",
      "Epoch: 23\n",
      " [================================================================>]  Step: 46ms | Tot: 18s502ms | Loss: 0.162 | Acc: 94.544% (47272/50000) 391/391 ====>........................................................]  Step: 49ms | Tot: 2s498ms | Loss: 0.152 | Acc: 94.708% (6425/6784) 53/391 ..]  Step: 58ms | Tot: 2s557ms | Loss: 0.153 | Acc: 94.734% (6548/6912) 54/391 ]  Step: 56ms | Tot: 4s657ms | Loss: 0.160 | Acc: 94.733% (11762/12416) 97/391 \n",
      " [================================================================>]  Step: 17ms | Tot: 1s945ms | Loss: 0.479 | Acc: 87.240% (8724/10000) 100/100 100 \n",
      "Test error is 0.1276 0.12760000000000005\n",
      "Hamming distance between rounds is 0.1221\n",
      "Test error of previous epoch is 0.1176\n",
      "\n",
      "Epoch: 24\n",
      " [================================================================>]  Step: 42ms | Tot: 19s73ms | Loss: 0.156 | Acc: 94.846% (47423/50000) 391/391  =================>..............................................]  Step: 44ms | Tot: 5s457ms | Loss: 0.162 | Acc: 94.614% (13685/14464) 113/391 ====================>............................................]  Step: 49ms | Tot: 6s78ms | Loss: 0.162 | Acc: 94.700% (15152/16000) 125/391 \n",
      " [================================================================>]  Step: 16ms | Tot: 1s911ms | Loss: 0.464 | Acc: 87.740% (8774/10000) 100/100 \n",
      "Test error is 0.1226 0.12260000000000004\n",
      "Hamming distance between rounds is 0.1177\n",
      "Test error of previous epoch is 0.1276\n",
      "\n",
      "Epoch: 25\n",
      " [================================================================>]  Step: 47ms | Tot: 18s485ms | Loss: 0.145 | Acc: 95.170% (47585/50000) 391/391 ...]  Step: 56ms | Tot: 1s38ms | Loss: 0.150 | Acc: 95.109% (2800/2944) 23/391 ........]  Step: 42ms | Tot: 9s199ms | Loss: 0.147 | Acc: 95.071% (23608/24832) 194/391 =========================================================>......]  Step: 58ms | Tot: 16s735ms | Loss: 0.147 | Acc: 95.115% (42855/45056) 352/391 \n",
      " [================================================================>]  Step: 14ms | Tot: 1s922ms | Loss: 0.595 | Acc: 85.570% (8557/10000) 100/100 ============================>................................]  Step: 22ms | Tot: 968ms | Loss: 0.581 | Acc: 86.000% (4386/5100) 51/100 \n",
      "Test error is 0.1443 0.1443000000000001\n",
      "Hamming distance between rounds is 0.1204\n",
      "Test error of previous epoch is 0.1226\n",
      "\n",
      "Epoch: 26\n",
      " [================================================================>]  Step: 36ms | Tot: 18s650ms | Loss: 0.136 | Acc: 95.434% (47717/50000) 391/391 ==============>............................................]  Step: 62ms | Tot: 5s905ms | Loss: 0.141 | Acc: 95.331% (15131/15872) 124/391 ==========================>......................................]  Step: 51ms | Tot: 7s512ms | Loss: 0.140 | Acc: 95.337% (19281/20224) 158/391 ============================>................................]  Step: 51ms | Tot: 9s493ms | Loss: 0.138 | Acc: 95.352% (24288/25472) 199/391  326/391 \n",
      " [================================================================>]  Step: 18ms | Tot: 1s879ms | Loss: 0.471 | Acc: 87.900% (8790/10000) 100/100 ======>.....................................................]  Step: 17ms | Tot: 330ms | Loss: 0.451 | Acc: 87.947% (1671/1900) 19/100 \n",
      "Test error is 0.121 0.121\n",
      "Hamming distance between rounds is 0.1242\n",
      "Test error of previous epoch is 0.1443\n",
      "\n",
      "Epoch: 27\n",
      " [================================================================>]  Step: 45ms | Tot: 18s470ms | Loss: 0.128 | Acc: 95.766% (47883/50000) 391/391 ....]  Step: 58ms | Tot: 11s200ms | Loss: 0.129 | Acc: 95.711% (29280/30592) 239/391 ==============================================>..................]  Step: 47ms | Tot: 13s37ms | Loss: 0.131 | Acc: 95.641% (34033/35584) 278/391 \n",
      " [================================================================>]  Step: 17ms | Tot: 1s986ms | Loss: 0.396 | Acc: 89.420% (8942/10000) 100/100 Step: 19ms | Tot: 387ms | Loss: 0.343 | Acc: 90.105% (1712/1900) 19/100 ]  Step: 24ms | Tot: 1s178ms | Loss: 0.396 | Acc: 89.759% (5206/5800) 58/100   Step: 20ms | Tot: 1s748ms | Loss: 0.402 | Acc: 89.460% (7783/8700) 87/100 \n",
      "Test error is 0.1058 0.1058\n",
      "Hamming distance between rounds is 0.0909\n",
      "Test error of previous epoch is 0.121\n",
      "Saving..\n",
      "\n",
      "Epoch: 28\n",
      " [================================================================>]  Step: 40ms | Tot: 18s795ms | Loss: 0.120 | Acc: 96.064% (48032/50000) 391/391 ===>.........................................................]  Step: 49ms | Tot: 2s263ms | Loss: 0.108 | Acc: 96.452% (5926/6144) 48/391 ....]  Step: 48ms | Tot: 6s560ms | Loss: 0.115 | Acc: 96.219% (16873/17536) 137/391 \n",
      " [================================================================>]  Step: 14ms | Tot: 2s173ms | Loss: 0.404 | Acc: 89.180% (8918/10000) 100/100 .......................]  Step: 20ms | Tot: 311ms | Loss: 0.357 | Acc: 89.533% (1343/1500) 15/100 ...................................................]  Step: 25ms | Tot: 336ms | Loss: 0.365 | Acc: 89.500% (1432/1600) 16/100 ================>................................................]  Step: 18ms | Tot: 534ms | Loss: 0.401 | Acc: 88.962% (2313/2600) 26/100   Step: 25ms | Tot: 1s178ms | Loss: 0.404 | Acc: 89.125% (4991/5600) 56/100 .]  Step: 25ms | Tot: 1s203ms | Loss: 0.407 | Acc: 89.053% (5076/5700) 57/100 .]  Step: 24ms | Tot: 1s303ms | Loss: 0.407 | Acc: 88.967% (5427/6100) 61/100 \n",
      "Test error is 0.1082 0.10819999999999996\n",
      "Hamming distance between rounds is 0.0899\n",
      "Test error of previous epoch is 0.1058\n",
      "\n",
      "Epoch: 29\n",
      " [================================================================>]  Step: 41ms | Tot: 18s538ms | Loss: 0.118 | Acc: 96.072% (48036/50000) 391/391 ................................]  Step: 46ms | Tot: 984ms | Loss: 0.099 | Acc: 96.733% (2724/2816) 22/391 ....]  Step: 60ms | Tot: 7s934ms | Loss: 0.117 | Acc: 96.186% (20930/21760) 170/391 \n",
      " [================================================================>]  Step: 20ms | Tot: 2s157ms | Loss: 0.451 | Acc: 88.240% (8824/10000) 100/100  Step: 22ms | Tot: 1s501ms | Loss: 0.450 | Acc: 88.333% (6625/7500) 75/100 \n",
      "Test error is 0.1176 0.11760000000000004\n",
      "Hamming distance between rounds is 0.1033\n",
      "Test error of previous epoch is 0.1082\n",
      "\n",
      "Epoch: 30\n",
      " [================================================================>]  Step: 40ms | Tot: 18s868ms | Loss: 0.109 | Acc: 96.372% (48186/50000) 391/391 ........................]  Step: 60ms | Tot: 5s759ms | Loss: 0.105 | Acc: 96.539% (14952/15488) 121/391 ...]  Step: 62ms | Tot: 17s706ms | Loss: 0.110 | Acc: 96.347% (45260/46976) 367/391 ===============================================================>.]  Step: 62ms | Tot: 18s376ms | Loss: 0.110 | Acc: 96.363% (46871/48640) 380/391 \n",
      " [================================================================>]  Step: 18ms | Tot: 2s121ms | Loss: 0.418 | Acc: 89.070% (8907/10000) 100/100 ep: 23ms | Tot: 718ms | Loss: 0.385 | Acc: 89.545% (2955/3300) 33/100 \n",
      "Test error is 0.1093 0.10930000000000006\n",
      "Hamming distance between rounds is 0.1004\n",
      "Test error of previous epoch is 0.1176\n",
      "\n",
      "Epoch: 31\n"
     ]
    },
    {
     "name": "stdout",
     "output_type": "stream",
     "text": [
      " [================================================================>]  Step: 44ms | Tot: 19s1ms | Loss: 0.103 | Acc: 96.600% (48300/50000) 391/391 1 =====================>..........................................]  Step: 58ms | Tot: 6s263ms | Loss: 0.110 | Acc: 96.377% (16654/17280) 135/391 ==============================>..................................]  Step: 52ms | Tot: 8s850ms | Loss: 0.109 | Acc: 96.395% (23073/23936) 187/391 ..............]  Step: 65ms | Tot: 12s469ms | Loss: 0.105 | Acc: 96.513% (32243/33408) 261/391 ===========================================>.....................]  Step: 45ms | Tot: 12s560ms | Loss: 0.105 | Acc: 96.513% (32490/33664) 263/391 ==========================================>...................]  Step: 48ms | Tot: 13s81ms | Loss: 0.105 | Acc: 96.532% (33732/34944) 273/391 ==============================================>...............]  Step: 48ms | Tot: 14s289ms | Loss: 0.104 | Acc: 96.549% (36704/38016) 297/391 \n",
      " [================================================================>]  Step: 16ms | Tot: 1s914ms | Loss: 0.418 | Acc: 89.460% (8946/10000) 100/100 \n",
      "Test error is 0.1054 0.10540000000000005\n",
      "Hamming distance between rounds is 0.0939\n",
      "Test error of previous epoch is 0.1093\n",
      "Saving..\n",
      "\n",
      "Epoch: 32\n",
      " [================================================================>]  Step: 39ms | Tot: 18s866ms | Loss: 0.098 | Acc: 96.780% (48390/50000) 391/391 =====>...........................................]  Step: 44ms | Tot: 6s328ms | Loss: 0.098 | Acc: 96.780% (16228/16768) 131/391 ========================>........................................]  Step: 44ms | Tot: 7s257ms | Loss: 0.099 | Acc: 96.771% (18580/19200) 150/391   Step: 43ms | Tot: 9s168ms | Loss: 0.100 | Acc: 96.747% (23405/24192) 189/391 ========>...............]  Step: 51ms | Tot: 14s422ms | Loss: 0.099 | Acc: 96.780% (36792/38016) 297/391 =>..]  Step: 57ms | Tot: 18s177ms | Loss: 0.099 | Acc: 96.761% (46569/48128) 376/391 \n",
      " [================================================================>]  Step: 24ms | Tot: 2s71ms | Loss: 0.492 | Acc: 88.030% (8803/10000) 100/100 61/100 \n",
      "Test error is 0.1197 0.11970000000000003\n",
      "Hamming distance between rounds is 0.1027\n",
      "Test error of previous epoch is 0.1054\n",
      "\n",
      "Epoch: 33\n",
      " [================================================================>]  Step: 46ms | Tot: 18s655ms | Loss: 0.093 | Acc: 96.930% (48465/50000) 391/391 tep: 65ms | Tot: 813ms | Loss: 0.107 | Acc: 96.369% (2097/2176) 17/391 ................................................]  Step: 54ms | Tot: 3s462ms | Loss: 0.094 | Acc: 96.970% (9185/9472) 74/391 \n",
      " [================================================================>]  Step: 20ms | Tot: 2s3ms | Loss: 0.473 | Acc: 88.150% (8815/10000) 100/100 \n",
      "Test error is 0.1185 0.11849999999999994\n",
      "Hamming distance between rounds is 0.11\n",
      "Test error of previous epoch is 0.1197\n",
      "\n",
      "Epoch: 34\n",
      " [================================================================>]  Step: 38ms | Tot: 18s909ms | Loss: 0.089 | Acc: 97.062% (48531/50000) 391/391 391 =========================================================>.......]  Step: 48ms | Tot: 16s735ms | Loss: 0.090 | Acc: 97.023% (43218/44544) 348/391 \n",
      " [================================================================>]  Step: 15ms | Tot: 1s904ms | Loss: 0.500 | Acc: 88.540% (8854/10000) 100/100   Step: 22ms | Tot: 45ms | Loss: 0.460 | Acc: 86.333% (259/300) 3/100 .]  Step: 18ms | Tot: 456ms | Loss: 0.486 | Acc: 88.120% (2203/2500) 25/100 ............]  Step: 21ms | Tot: 1s58ms | Loss: 0.501 | Acc: 88.727% (4880/5500) 55/100 \n",
      "Test error is 0.1146 0.11459999999999992\n",
      "Hamming distance between rounds is 0.0957\n",
      "Test error of previous epoch is 0.1185\n",
      "\n",
      "Epoch: 35\n",
      " [================================================================>]  Step: 52ms | Tot: 18s996ms | Loss: 0.091 | Acc: 96.992% (48496/50000) 391/391  Step: 54ms | Tot: 5s422ms | Loss: 0.084 | Acc: 97.179% (14056/14464) 113/391 ======================>..........................................]  Step: 45ms | Tot: 6s433ms | Loss: 0.087 | Acc: 97.153% (16788/17280) 135/391  212/391 =>..............]  Step: 50ms | Tot: 14s354ms | Loss: 0.092 | Acc: 96.945% (37475/38656) 302/391 \n",
      " [================================================================>]  Step: 16ms | Tot: 1s959ms | Loss: 0.451 | Acc: 88.850% (8885/10000) 100/100 \n",
      "Test error is 0.1115 0.11150000000000004\n",
      "Hamming distance between rounds is 0.0884\n",
      "Test error of previous epoch is 0.1146\n",
      "\n",
      "Epoch: 36\n",
      " [================================================================>]  Step: 40ms | Tot: 18s653ms | Loss: 0.076 | Acc: 97.526% (48763/50000) 391/391 ...........]  Step: 53ms | Tot: 2s464ms | Loss: 0.069 | Acc: 97.611% (6497/6656) 52/391   Step: 60ms | Tot: 8s746ms | Loss: 0.081 | Acc: 97.390% (23062/23680) 185/391 \n",
      " [================================================================>]  Step: 20ms | Tot: 2s70ms | Loss: 0.442 | Acc: 89.210% (8921/10000) 100/100 tep: 24ms | Tot: 552ms | Loss: 0.430 | Acc: 88.966% (2580/2900) 29/100 \n",
      "Test error is 0.1079 0.1079000000000001\n",
      "Hamming distance between rounds is 0.0879\n",
      "Test error of previous epoch is 0.1115\n",
      "\n",
      "Epoch: 37\n",
      " [================================================================>]  Step: 43ms | Tot: 18s878ms | Loss: 0.079 | Acc: 97.430% (48715/50000) 391/391 .....]  Step: 47ms | Tot: 7s238ms | Loss: 0.080 | Acc: 97.357% (18568/19072) 149/391 ========================================================>........]  Step: 47ms | Tot: 16s398ms | Loss: 0.080 | Acc: 97.388% (42134/43264) 338/391 \n",
      " [================================================================>]  Step: 17ms | Tot: 1s946ms | Loss: 0.503 | Acc: 88.660% (8866/10000) 100/100  Step: 21ms | Tot: 1s494ms | Loss: 0.502 | Acc: 88.628% (6913/7800) 78/100 \n",
      "Test error is 0.1134 0.11340000000000006\n",
      "Hamming distance between rounds is 0.1011\n",
      "Test error of previous epoch is 0.1079\n",
      "\n",
      "Epoch: 38\n",
      " [================================================================>]  Step: 44ms | Tot: 18s782ms | Loss: 0.077 | Acc: 97.450% (48725/50000) 391/391 ==========>...................................................]  Step: 40ms | Tot: 3s874ms | Loss: 0.081 | Acc: 97.252% (10332/10624) 83/391 ............]  Step: 55ms | Tot: 4s200ms | Loss: 0.082 | Acc: 97.248% (11203/11520) 90/391 .]  Step: 59ms | Tot: 7s308ms | Loss: 0.078 | Acc: 97.438% (19207/19712) 154/391  205/391 =======================================>.........................]  Step: 50ms | Tot: 11s633ms | Loss: 0.077 | Acc: 97.433% (30056/30848) 241/391 ]  Step: 58ms | Tot: 12s83ms | Loss: 0.077 | Acc: 97.441% (31181/32000) 250/391 \n",
      " [================================================================>]  Step: 18ms | Tot: 2s20ms | Loss: 0.482 | Acc: 89.070% (8907/10000) 100/100 ..............................]  Step: 21ms | Tot: 724ms | Loss: 0.456 | Acc: 89.167% (3210/3600) 36/100 .......................]  Step: 19ms | Tot: 1s249ms | Loss: 0.479 | Acc: 89.048% (5521/6200) 62/100 \n",
      "Test error is 0.1093 0.10930000000000006\n",
      "Hamming distance between rounds is 0.1019\n",
      "Test error of previous epoch is 0.1134\n",
      "\n",
      "Epoch: 39\n",
      " [================================================================>]  Step: 55ms | Tot: 18s675ms | Loss: 0.071 | Acc: 97.632% (48816/50000) 391/391 ................]  Step: 47ms | Tot: 1s481ms | Loss: 0.068 | Acc: 97.552% (3746/3840) 30/391 ....]  Step: 56ms | Tot: 10s366ms | Loss: 0.075 | Acc: 97.427% (27186/27904) 218/391 ======================================>..........................]  Step: 50ms | Tot: 11s134ms | Loss: 0.073 | Acc: 97.515% (29083/29824) 233/391 ==================================================>.............]  Step: 53ms | Tot: 14s782ms | Loss: 0.070 | Acc: 97.634% (38866/39808) 311/391 \n",
      " [================================================================>]  Step: 21ms | Tot: 2s72ms | Loss: 0.428 | Acc: 89.670% (8967/10000) 100/100 ...........................................]  Step: 25ms | Tot: 534ms | Loss: 0.415 | Acc: 89.889% (2427/2700) 27/100 ========================>.......]  Step: 21ms | Tot: 1s842ms | Loss: 0.431 | Acc: 89.640% (7978/8900) 89/100 \n",
      "Test error is 0.1033 0.10329999999999995\n",
      "Hamming distance between rounds is 0.0949\n",
      "Test error of previous epoch is 0.1093\n",
      "Saving..\n",
      "\n",
      "Epoch: 40\n",
      " [================================================================>]  Step: 47ms | Tot: 18s924ms | Loss: 0.069 | Acc: 97.684% (48842/50000) 391/391 ...]  Step: 56ms | Tot: 10s126ms | Loss: 0.068 | Acc: 97.720% (26142/26752) 209/391 =============================================>...................]  Step: 50ms | Tot: 13s484ms | Loss: 0.070 | Acc: 97.639% (34619/35456) 277/391 \n",
      " [================================================================>]  Step: 24ms | Tot: 2s52ms | Loss: 0.471 | Acc: 88.980% (8898/10000) 100/100 57/100 \n",
      "Test error is 0.1102 0.11019999999999996\n",
      "Hamming distance between rounds is 0.1014\n",
      "Test error of previous epoch is 0.1033\n",
      "\n",
      "Epoch: 41\n",
      " [================================================================>]  Step: 50ms | Tot: 19s215ms | Loss: 0.064 | Acc: 97.850% (48925/50000) 391/391 =====================>..........................................]  Step: 62ms | Tot: 6s545ms | Loss: 0.068 | Acc: 97.795% (16899/17280) 135/391 ...................................]  Step: 51ms | Tot: 7s116ms | Loss: 0.067 | Acc: 97.789% (18400/18816) 147/391  242/391 ============>.........]  Step: 60ms | Tot: 16s277ms | Loss: 0.064 | Acc: 97.837% (41702/42624) 333/391 ========================================================>........]  Step: 52ms | Tot: 16s709ms | Loss: 0.064 | Acc: 97.853% (42836/43776) 342/391 \n",
      " [================================================================>]  Step: 18ms | Tot: 2s12ms | Loss: 0.433 | Acc: 89.800% (8980/10000) 100/100 90/100 \n",
      "Test error is 0.102 0.10199999999999998\n",
      "Hamming distance between rounds is 0.0956\n",
      "Test error of previous epoch is 0.1102\n",
      "Saving..\n",
      "\n",
      "Epoch: 42\n",
      " [================================================================>]  Step: 49ms | Tot: 18s801ms | Loss: 0.065 | Acc: 97.878% (48939/50000) 391/391 =======>.....................................................]  Step: 47ms | Tot: 3s443ms | Loss: 0.066 | Acc: 97.817% (9140/9344) 73/391  79/391 ]  Step: 45ms | Tot: 13s811ms | Loss: 0.065 | Acc: 97.856% (36324/37120) 290/391 ..]  Step: 60ms | Tot: 14s867ms | Loss: 0.064 | Acc: 97.869% (39085/39936) 312/391   Step: 57ms | Tot: 15s546ms | Loss: 0.065 | Acc: 97.885% (40720/41600) 325/391 ========>]  Step: 53ms | Tot: 18s557ms | Loss: 0.065 | Acc: 97.885% (48363/49408) 386/391 \n",
      " [================================================================>]  Step: 18ms | Tot: 2s15ms | Loss: 0.438 | Acc: 89.610% (8961/10000) 100/100 =========================================================>......]  Step: 22ms | Tot: 1s829ms | Loss: 0.442 | Acc: 89.527% (8147/9100) 91/100 \n",
      "Test error is 0.1039 0.10389999999999999\n",
      "Hamming distance between rounds is 0.09\n",
      "Test error of previous epoch is 0.102\n",
      "\n",
      "Epoch: 43\n",
      " [================================================================>]  Step: 42ms | Tot: 18s736ms | Loss: 0.062 | Acc: 97.982% (48991/50000) 391/391  Step: 59ms | Tot: 4s632ms | Loss: 0.061 | Acc: 97.962% (12163/12416) 97/391 =================================================>...............]  Step: 42ms | Tot: 14s136ms | Loss: 0.062 | Acc: 97.991% (37127/37888) 296/391   Step: 48ms | Tot: 16s280ms | Loss: 0.061 | Acc: 97.996% (42648/43520) 340/391 \n",
      " [================================================================>]  Step: 18ms | Tot: 1s966ms | Loss: 0.478 | Acc: 89.350% (8935/10000) 100/100 ...........................]  Step: 18ms | Tot: 39ms | Loss: 0.379 | Acc: 90.000% (270/300) 3/100  19/100 ===>............]  Step: 20ms | Tot: 1s630ms | Loss: 0.471 | Acc: 89.463% (7336/8200) 82/100  83/100 \n",
      "Test error is 0.1065 0.10650000000000004\n",
      "Hamming distance between rounds is 0.0964\n",
      "Test error of previous epoch is 0.1039\n",
      "\n",
      "Epoch: 44\n",
      " [================================================================>]  Step: 45ms | Tot: 19s13ms | Loss: 0.061 | Acc: 97.954% (48977/50000) 391/391  ........................]  Step: 57ms | Tot: 4s578ms | Loss: 0.056 | Acc: 98.106% (11553/11776) 92/391   Step: 56ms | Tot: 5s856ms | Loss: 0.057 | Acc: 98.017% (14930/15232) 119/391 ===================================================>............]  Step: 50ms | Tot: 15s457ms | Loss: 0.061 | Acc: 97.953% (39620/40448) 316/391 \n",
      " [================================================================>]  Step: 17ms | Tot: 1s945ms | Loss: 0.439 | Acc: 89.670% (8967/10000) 100/100 ===============>.............................................]  Step: 24ms | Tot: 629ms | Loss: 0.405 | Acc: 90.161% (2795/3100) 31/100 \n",
      "Test error is 0.1033 0.10329999999999995\n",
      "Hamming distance between rounds is 0.0945\n",
      "Test error of previous epoch is 0.1065\n",
      "\n",
      "Epoch: 45\n",
      " [================================================================>]  Step: 47ms | Tot: 18s778ms | Loss: 0.057 | Acc: 98.134% (49067/50000) 391/391 =====================>..........................................]  Step: 56ms | Tot: 6s594ms | Loss: 0.058 | Acc: 97.973% (17306/17664) 138/391 .......................]  Step: 58ms | Tot: 8s274ms | Loss: 0.057 | Acc: 98.070% (21591/22016) 172/391 ===================>.........................]  Step: 52ms | Tot: 11s374ms | Loss: 0.056 | Acc: 98.130% (29643/30208) 236/391 =====================================================>...........]  Step: 56ms | Tot: 15s441ms | Loss: 0.057 | Acc: 98.114% (40313/41088) 321/391 \n",
      " [================================================================>]  Step: 21ms | Tot: 2s81ms | Loss: 0.448 | Acc: 89.560% (8956/10000) 100/100 \n",
      "Test error is 0.1044 0.10439999999999994\n",
      "Hamming distance between rounds is 0.0929\n",
      "Test error of previous epoch is 0.1033\n",
      "\n",
      "Epoch: 46\n",
      " [================================================================>]  Step: 44ms | Tot: 18s775ms | Loss: 0.055 | Acc: 98.138% (49069/50000) 391/391 ...........................................................]  Step: 51ms | Tot: 742ms | Loss: 0.060 | Acc: 97.518% (2122/2176) 17/391  73/391 =======================================================>.........]  Step: 50ms | Tot: 15s952ms | Loss: 0.054 | Acc: 98.169% (41718/42496) 332/391 ============================================================>....]  Step: 51ms | Tot: 17s418ms | Loss: 0.054 | Acc: 98.173% (45615/46464) 363/391 \n",
      " [================================================================>]  Step: 19ms | Tot: 2s64ms | Loss: 0.463 | Acc: 89.410% (8941/10000) 100/100 ===>..........................................]  Step: 23ms | Tot: 701ms | Loss: 0.440 | Acc: 89.600% (3136/3500) 35/100 =================================================>...............]  Step: 23ms | Tot: 1s570ms | Loss: 0.458 | Acc: 89.506% (6892/7700) 77/100  90/100 \n",
      "Test error is 0.1059 0.1059\n",
      "Hamming distance between rounds is 0.0931\n",
      "Test error of previous epoch is 0.1044\n",
      "\n",
      "Epoch: 47\n",
      " [================================================================>]  Step: 38ms | Tot: 18s735ms | Loss: 0.057 | Acc: 98.126% (49063/50000) 391/391 ========================>.......................................]  Step: 40ms | Tot: 7s275ms | Loss: 0.060 | Acc: 97.995% (19066/19456) 152/391 =================>..............]  Step: 48ms | Tot: 14s803ms | Loss: 0.057 | Acc: 98.112% (38554/39296) 307/391 .]  Step: 62ms | Tot: 17s416ms | Loss: 0.057 | Acc: 98.120% (45716/46592) 364/391 \n",
      " [================================================================>]  Step: 20ms | Tot: 2s37ms | Loss: 0.445 | Acc: 89.830% (8983/10000) 100/100 \n",
      "Test error is 0.1017 0.10170000000000001\n",
      "Hamming distance between rounds is 0.0819\n",
      "Test error of previous epoch is 0.1059\n",
      "Saving..\n",
      "\n",
      "Epoch: 48\n",
      " [================================================================>]  Step: 45ms | Tot: 19s49ms | Loss: 0.053 | Acc: 98.264% (49132/50000) 391/391  ...]  Step: 62ms | Tot: 13s606ms | Loss: 0.054 | Acc: 98.228% (35205/35840) 280/391 .....]  Step: 60ms | Tot: 15s985ms | Loss: 0.056 | Acc: 98.186% (41348/42112) 329/391 ..]  Step: 56ms | Tot: 16s503ms | Loss: 0.055 | Acc: 98.205% (42739/43520) 340/391  385/391 \n"
     ]
    },
    {
     "name": "stdout",
     "output_type": "stream",
     "text": [
      " [================================================================>]  Step: 24ms | Tot: 2s94ms | Loss: 0.464 | Acc: 89.990% (8999/10000) 100/100 .....................]  Step: 26ms | Tot: 497ms | Loss: 0.474 | Acc: 89.417% (2146/2400) 24/100 .....]  Step: 19ms | Tot: 1s691ms | Loss: 0.460 | Acc: 89.976% (7378/8200) 82/100 ===================================>...........]  Step: 22ms | Tot: 1s734ms | Loss: 0.462 | Acc: 89.940% (7555/8400) 84/100 \n",
      "Test error is 0.1001 0.10010000000000008\n",
      "Hamming distance between rounds is 0.0864\n",
      "Test error of previous epoch is 0.1017\n",
      "Saving..\n",
      "\n",
      "Epoch: 49\n",
      " [================================================================>]  Step: 46ms | Tot: 18s962ms | Loss: 0.048 | Acc: 98.420% (49210/50000) 391/391 .........]  Step: 45ms | Tot: 4s141ms | Loss: 0.049 | Acc: 98.261% (10565/10752) 84/391  171/391 ..]  Step: 57ms | Tot: 9s687ms | Loss: 0.053 | Acc: 98.266% (25156/25600) 200/391 ============================================================>....]  Step: 54ms | Tot: 17s720ms | Loss: 0.049 | Acc: 98.388% (45967/46720) 365/391 \n",
      " [================================================================>]  Step: 21ms | Tot: 1s883ms | Loss: 0.465 | Acc: 90.060% (9006/10000) 100/100 ..............]  Step: 22ms | Tot: 222ms | Loss: 0.409 | Acc: 90.667% (1088/1200) 12/100 ===========================================>.....................]  Step: 23ms | Tot: 1s291ms | Loss: 0.449 | Acc: 90.132% (6129/6800) 68/100 \n",
      "Test error is 0.0994 0.09939999999999993\n",
      "Hamming distance between rounds is 0.0793\n",
      "Test error of previous epoch is 0.1001\n",
      "Saving..\n"
     ]
    }
   ],
   "source": [
    "%run normal_main.py --task=CIFAR10 --lr=0.001 --epochs=50 --algorithm=Adam"
   ]
  },
  {
   "cell_type": "code",
   "execution_count": 7,
   "metadata": {},
   "outputs": [],
   "source": [
    "import matplotlib.pyplot as plt\n",
    "import numpy as np\n",
    "\n",
    "def imshow(img):\n",
    "    plt.imshow(np.transpose(img.numpy(), (1, 2, 0)))\n",
    "    plt.show()"
   ]
  },
  {
   "cell_type": "code",
   "execution_count": 65,
   "metadata": {},
   "outputs": [
    {
     "name": "stdout",
     "output_type": "stream",
     "text": [
      "Files already downloaded and verified\n"
     ]
    }
   ],
   "source": [
    "from utils.data_processing.get_dataset import get_train_data, get_validation_data\n",
    "testset = get_validation_data('CIFAR10')\n",
    "testloader = torch.utils.data.DataLoader(testset, batch_size=100,\n",
    "                                          shuffle=True, num_workers=2)\n",
    "data,labels=iter(testloader).next()"
   ]
  },
  {
   "cell_type": "code",
   "execution_count": 74,
   "metadata": {},
   "outputs": [
    {
     "data": {
      "text/plain": [
       "tensor(0.)"
      ]
     },
     "execution_count": 74,
     "metadata": {},
     "output_type": "execute_result"
    }
   ],
   "source": [
    "torch.min(data)"
   ]
  },
  {
   "cell_type": "code",
   "execution_count": 108,
   "metadata": {},
   "outputs": [],
   "source": [
    "probs=global_net(adversarial_images)\n",
    "probs=torch.nn.functional.softmax(probs,dim=1)\n",
    "probs_max,pred = probs.max(1)\n",
    "probs_max=probs_max.cpu()\n",
    "pred=pred.cpu()"
   ]
  },
  {
   "cell_type": "code",
   "execution_count": 109,
   "metadata": {},
   "outputs": [
    {
     "data": {
      "text/plain": [
       "tensor([1.0000, 0.9973, 1.0000, 1.0000, 1.0000, 0.9999, 0.9999, 1.0000, 1.0000,\n",
       "        0.9999, 1.0000, 1.0000, 0.9995, 0.9999, 1.0000, 1.0000, 1.0000, 0.9993,\n",
       "        1.0000, 0.9999, 1.0000, 0.9184, 1.0000, 1.0000, 1.0000, 1.0000, 1.0000,\n",
       "        1.0000, 0.9999, 1.0000, 1.0000, 1.0000, 0.9999, 1.0000, 0.9998, 1.0000,\n",
       "        0.9999, 0.9883, 0.9873, 1.0000, 0.9999, 1.0000, 1.0000, 1.0000, 0.9992,\n",
       "        0.6792, 1.0000, 1.0000, 1.0000, 1.0000, 0.9999, 1.0000, 0.9999, 1.0000,\n",
       "        1.0000, 1.0000, 1.0000, 1.0000, 0.9998, 1.0000, 1.0000, 1.0000, 1.0000,\n",
       "        0.9998, 1.0000, 0.9999, 1.0000, 1.0000, 1.0000, 0.9999, 0.9993, 1.0000,\n",
       "        1.0000, 1.0000, 1.0000, 1.0000, 1.0000, 1.0000, 1.0000, 1.0000, 1.0000,\n",
       "        1.0000, 0.9999, 1.0000, 1.0000, 0.9999, 1.0000, 1.0000, 1.0000, 1.0000,\n",
       "        0.9999, 1.0000, 0.9995, 0.9999, 1.0000, 1.0000, 1.0000, 1.0000, 1.0000,\n",
       "        0.9999], grad_fn=<CopyBackwards>)"
      ]
     },
     "execution_count": 109,
     "metadata": {},
     "output_type": "execute_result"
    }
   ],
   "source": [
    "probs_max"
   ]
  },
  {
   "cell_type": "code",
   "execution_count": 104,
   "metadata": {},
   "outputs": [
    {
     "data": {
      "text/plain": [
       "tensor([False, False, False, False, False,  True, False,  True, False, False,\n",
       "        False, False, False, False, False, False, False, False, False, False,\n",
       "        False,  True, False,  True,  True, False, False, False,  True, False,\n",
       "         True, False, False, False, False, False, False, False, False, False,\n",
       "        False, False, False, False, False, False, False, False, False, False,\n",
       "        False, False, False, False, False, False, False, False, False, False,\n",
       "        False, False, False, False, False, False, False, False,  True, False,\n",
       "        False, False, False, False, False, False, False, False, False, False,\n",
       "        False, False, False, False, False, False, False, False, False,  True,\n",
       "        False, False, False,  True, False, False, False, False,  True, False])"
      ]
     },
     "execution_count": 104,
     "metadata": {},
     "output_type": "execute_result"
    }
   ],
   "source": [
    "pred != labels"
   ]
  },
  {
   "cell_type": "code",
   "execution_count": null,
   "metadata": {},
   "outputs": [],
   "source": []
  },
  {
   "cell_type": "code",
   "execution_count": 110,
   "metadata": {},
   "outputs": [
    {
     "data": {
      "text/plain": [
       "tensor(2)"
      ]
     },
     "execution_count": 110,
     "metadata": {},
     "output_type": "execute_result"
    }
   ],
   "source": [
    "torch.sum(pred == labels)"
   ]
  },
  {
   "cell_type": "code",
   "execution_count": null,
   "metadata": {},
   "outputs": [],
   "source": []
  },
  {
   "cell_type": "code",
   "execution_count": null,
   "metadata": {},
   "outputs": [],
   "source": []
  },
  {
   "cell_type": "code",
   "execution_count": 106,
   "metadata": {},
   "outputs": [],
   "source": [
    "atk = torchattacks.PGD(global_net, eps=8/255, alpha=2/255, steps=4)"
   ]
  },
  {
   "cell_type": "code",
   "execution_count": 107,
   "metadata": {},
   "outputs": [],
   "source": [
    "adversarial_images = atk(data, labels).cpu()"
   ]
  },
  {
   "cell_type": "code",
   "execution_count": 55,
   "metadata": {
    "scrolled": true
   },
   "outputs": [
    {
     "data": {
      "image/png": "[encoded data removed]",
      "text/plain": [
       "<Figure size 432x288 with 1 Axes>"
      ]
     },
     "metadata": {
      "needs_background": "light"
     },
     "output_type": "display_data"
    }
   ],
   "source": [
    "imshow(adversarial_images[3])"
   ]
  },
  {
   "cell_type": "code",
   "execution_count": 56,
   "metadata": {},
   "outputs": [
    {
     "data": {
      "image/png": "[encoded data removed]",
      "text/plain": [
       "<Figure size 432x288 with 1 Axes>"
      ]
     },
     "metadata": {
      "needs_background": "light"
     },
     "output_type": "display_data"
    }
   ],
   "source": [
    "imshow(data[3])"
   ]
  },
  {
   "cell_type": "code",
   "execution_count": 58,
   "metadata": {},
   "outputs": [
    {
     "data": {
      "text/plain": [
       "tensor(0.0314)"
      ]
     },
     "execution_count": 58,
     "metadata": {},
     "output_type": "execute_result"
    }
   ],
   "source": [
    "torch.max(adversarial_images[3] - data[3])"
   ]
  },
  {
   "cell_type": "code",
   "execution_count": 29,
   "metadata": {},
   "outputs": [
    {
     "data": {
      "text/plain": [
       "0.03137254901960784"
      ]
     },
     "execution_count": 29,
     "metadata": {},
     "output_type": "execute_result"
    }
   ],
   "source": [
    "8/255"
   ]
  },
  {
   "cell_type": "code",
   "execution_count": 46,
   "metadata": {},
   "outputs": [
    {
     "data": {
      "text/plain": [
       "782"
      ]
     },
     "execution_count": 46,
     "metadata": {},
     "output_type": "execute_result"
    }
   ],
   "source": [
    "391*2"
   ]
  },
  {
   "cell_type": "code",
   "execution_count": 48,
   "metadata": {},
   "outputs": [
    {
     "data": {
      "text/plain": [
       "742.9"
      ]
     },
     "execution_count": 48,
     "metadata": {},
     "output_type": "execute_result"
    }
   ],
   "source": [
    "782*0.95"
   ]
  },
  {
   "cell_type": "code",
   "execution_count": null,
   "metadata": {},
   "outputs": [],
   "source": []
  }
 ],
 "metadata": {
  "kernelspec": {
   "display_name": "Python 3",
   "language": "python",
   "name": "python3"
  },
  "language_info": {
   "codemirror_mode": {
    "name": "ipython",
    "version": 3
   },
   "file_extension": ".py",
   "mimetype": "text/x-python",
   "name": "python",
   "nbconvert_exporter": "python",
   "pygments_lexer": "ipython3",
   "version": "3.8.3"
  }
 },
 "nbformat": 4,
 "nbformat_minor": 4
}
